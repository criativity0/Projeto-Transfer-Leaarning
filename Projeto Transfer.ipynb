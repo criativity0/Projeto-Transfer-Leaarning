{
 "cells": [
  {
   "cell_type": "code",
   "execution_count": 1,
   "id": "21dc6cc4",
   "metadata": {},
   "outputs": [],
   "source": [
    "import tensorflow as tf\n",
    "from tensorflow import keras\n",
    "import numpy as np\n",
    "import matplotlib.pyplot as plt\n",
    "import os"
   ]
  },
  {
   "cell_type": "code",
   "execution_count": 3,
   "id": "2f426f10",
   "metadata": {},
   "outputs": [],
   "source": [
    "data_dir = \"./PetImages\""
   ]
  },
  {
   "cell_type": "code",
   "execution_count": 5,
   "id": "8288d7e1",
   "metadata": {},
   "outputs": [
    {
     "name": "stdout",
     "output_type": "stream",
     "text": [
      "Found 25000 files belonging to 2 classes.\n",
      "['Cat', 'Dog']\n"
     ]
    }
   ],
   "source": [
    "dataset_name = tf.keras.utils.image_dataset_from_directory(\n",
    "    data_dir,\n",
    "    labels='inferred',            \n",
    "    label_mode='int',            \n",
    "    batch_size=32,\n",
    "    image_size=(224, 224),        \n",
    "    shuffle=True,\n",
    "    seed=123\n",
    ")\n",
    "\n",
    "\n",
    "print(dataset_name.class_names)"
   ]
  },
  {
   "cell_type": "code",
   "execution_count": 6,
   "id": "e5af8c2c",
   "metadata": {},
   "outputs": [
    {
     "name": "stdout",
     "output_type": "stream",
     "text": [
      "Downloading data from https://storage.googleapis.com/tensorflow/keras-applications/mobilenet_v2/mobilenet_v2_weights_tf_dim_ordering_tf_kernels_1.0_160_no_top.h5\n",
      "\u001b[1m9406464/9406464\u001b[0m \u001b[32m━━━━━━━━━━━━━━━━━━━━\u001b[0m\u001b[37m\u001b[0m \u001b[1m1s\u001b[0m 0us/step\n"
     ]
    }
   ],
   "source": [
    "base_model = keras.applications.MobileNetV2(input_shape=(160, 160, 3), include_top=False, weights=\"imagenet\")\n",
    "base_model.trainable = False  # Congela os pesos do modelo pré-treinado"
   ]
  }
 ],
 "metadata": {
  "kernelspec": {
   "display_name": "Python 3",
   "language": "python",
   "name": "python3"
  },
  "language_info": {
   "codemirror_mode": {
    "name": "ipython",
    "version": 3
   },
   "file_extension": ".py",
   "mimetype": "text/x-python",
   "name": "python",
   "nbconvert_exporter": "python",
   "pygments_lexer": "ipython3",
   "version": "3.12.10"
  }
 },
 "nbformat": 4,
 "nbformat_minor": 5
}
